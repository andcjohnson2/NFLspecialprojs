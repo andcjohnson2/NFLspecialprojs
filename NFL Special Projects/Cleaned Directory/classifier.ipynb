{
 "cells": [
  {
   "cell_type": "code",
   "execution_count": 18,
   "metadata": {},
   "outputs": [],
   "source": [
    "%run Decoder.ipynb\n",
    "%run Positions.ipynb\n",
    "%run bank.ipynb\n",
    "%run bear.ipynb\n",
    "%run double_a_gap.ipynb\n",
    "%run heads.ipynb\n",
    "%run jet.ipynb\n",
    "%run outlaw.ipynb\n",
    "%run over.ipynb\n",
    "%run tite.ipynb\n",
    "%run under.ipynb\n",
    "%run double_a_gap_variation.ipynb"
   ]
  },
  {
   "cell_type": "code",
   "execution_count": 17,
   "metadata": {},
   "outputs": [],
   "source": [
    "def classifier(df):\n",
    "    i=0\n",
    "    fronts_list = []\n",
    "    while i<len(df):\n",
    "        row = df.iloc[i,:]\n",
    "\n",
    "        ## Check for bank\n",
    "        if is_bank(row)== True:\n",
    "            fronts_list.append(\"Bank\")\n",
    "\n",
    "        ## Check for Bear\n",
    "        elif is_bear(row) == True:\n",
    "            fronts_list.append(\"Bear\")\n",
    "        \n",
    "        ## Check for Double A Gap:\n",
    "        elif is_double_a_gap(row) == True:\n",
    "            fronts_list.append(\"Double A Gap\")\n",
    "\n",
    "        ## Check for Heads:\n",
    "        elif is_heads(row) == True:\n",
    "            fronts_list.append(\"Heads\")\n",
    "        \n",
    "        ## Check for Jet:\n",
    "        elif is_jet(row) == True:\n",
    "            fronts_list.append(\"Jet\")\n",
    "        \n",
    "        ## Check for Outlaw:\n",
    "        elif is_outlaw(row) == True:\n",
    "            fronts_list.append(\"Outlaw\")\n",
    "\n",
    "        ## Check for Over:\n",
    "        elif is_over(row) == True:\n",
    "            fronts_list.append(\"Over\")\n",
    "        \n",
    "        ## Check for Tite\n",
    "        elif is_tite(row) == True:\n",
    "            fronts_list.append(\"Tite\")\n",
    "        \n",
    "        ## Check for Under\n",
    "        elif is_under(row) == True:\n",
    "            fronts_list.append(\"Under\")\n",
    "\n",
    "        ## Check for double a gap variation\n",
    "        elif is_double_a_gap_variation(row) == True:\n",
    "            fronts_list.append(\"Double A Gap Variation\")\n",
    "        \n",
    "        else:\n",
    "            fronts_list.append(\"Other\")\n",
    "        \n",
    "        i+=1\n",
    "\n",
    "    return fronts_list        \n"
   ]
  },
  {
   "cell_type": "code",
   "execution_count": null,
   "metadata": {},
   "outputs": [],
   "source": []
  }
 ],
 "metadata": {
  "kernelspec": {
   "display_name": "base",
   "language": "python",
   "name": "python3"
  },
  "language_info": {
   "codemirror_mode": {
    "name": "ipython",
    "version": 3
   },
   "file_extension": ".py",
   "mimetype": "text/x-python",
   "name": "python",
   "nbconvert_exporter": "python",
   "pygments_lexer": "ipython3",
   "version": "3.11.5"
  }
 },
 "nbformat": 4,
 "nbformat_minor": 2
}
