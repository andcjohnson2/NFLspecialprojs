{
 "cells": [
  {
   "cell_type": "code",
   "execution_count": 2,
   "metadata": {},
   "outputs": [],
   "source": [
    "%run Decoder.ipynb\n",
    "%run Positions.ipynb"
   ]
  },
  {
   "cell_type": "code",
   "execution_count": 1,
   "metadata": {},
   "outputs": [],
   "source": [
    "def is_bank(row):\n",
    "\n",
    "    ## Arguments\n",
    "    arg1 = row['pff_DEFFRONT']\n",
    "    arg3 = row['pff_LBDEPTH']\n",
    "    arg2 = row['pff_DBDEPTH']\n",
    "    arg4 = row['pff_OFFFORMATION']\n",
    "\n",
    "    ## Checks to make\n",
    "    le_rushers = 0\n",
    "    l_a_gap = False\n",
    "    r_a_gap = False\n",
    "    re_rushers = 0\n",
    "    num = number_of_rushers(arg1, arg2, arg3)\n",
    "    btwn_tackles = num_between_tackles(arg1, arg2, arg3)\n",
    "\n",
    "    ## Checks\n",
    "    ## Number of left edge rushers\n",
    "    le_rusher = count_left_edge_rusher(arg1, arg2, arg3, arg4)\n",
    "\n",
    "    ## Number of right edge rushers\n",
    "    re_rusher = count_right_edge_rusher(arg1, arg2, arg3, arg4)\n",
    "\n",
    "    ## Right a gap\n",
    "    r_a_gap = right_a_gap(arg1, arg2, arg3, 24, 25)\n",
    "\n",
    "    ## Left a gap\n",
    "    l_a_gap = left_a_gap(arg1, arg2, arg3, 19, 20)\n",
    "\n",
    "    ## Evaluate bank\n",
    "    if (r_a_gap == True or l_a_gap == True) and btwn_tackles ==1:\n",
    "        return True\n",
    "    else:\n",
    "        return False\n",
    "\n"
   ]
  },
  {
   "cell_type": "code",
   "execution_count": null,
   "metadata": {},
   "outputs": [],
   "source": []
  }
 ],
 "metadata": {
  "kernelspec": {
   "display_name": "base",
   "language": "python",
   "name": "python3"
  },
  "language_info": {
   "codemirror_mode": {
    "name": "ipython",
    "version": 3
   },
   "file_extension": ".py",
   "mimetype": "text/x-python",
   "name": "python",
   "nbconvert_exporter": "python",
   "pygments_lexer": "ipython3",
   "version": "3.11.5"
  }
 },
 "nbformat": 4,
 "nbformat_minor": 2
}
