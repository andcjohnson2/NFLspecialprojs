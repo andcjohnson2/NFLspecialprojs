{
 "cells": [
  {
   "cell_type": "code",
   "execution_count": 1,
   "metadata": {},
   "outputs": [],
   "source": [
    "%run Decoder.ipynb\n",
    "%run Positions.ipynb"
   ]
  },
  {
   "cell_type": "code",
   "execution_count": 2,
   "metadata": {},
   "outputs": [],
   "source": [
    "def is_under(row):\n",
    "    ## Arguments\n",
    "    arg1 = row['pff_DEFFRONT']\n",
    "    arg3 = row['pff_LBDEPTH']\n",
    "    arg2 = row['pff_DBDEPTH']\n",
    "    arg4 = row['pff_OFFFORMATION']\n",
    "    \n",
    "    tes = tight_ends_number_and_location(arg4)\n",
    "    \n",
    "    ## Checks to make\n",
    "    le_rusher = False\n",
    "    l_over_tackle = False\n",
    "    left_three_tech = False\n",
    "    l_a_gap = False\n",
    "    r_a_gap = False\n",
    "    right_three_tech = False\n",
    "    r_over_tackle = False\n",
    "    re_rusher = False\n",
    "    num = number_of_rushers(arg1, arg2, arg3)\n",
    "    btwn_tackles = num_between_tackles(arg1, arg2, arg3)\n",
    "    \n",
    "    ## Checks\n",
    "    ## Over left tackle\n",
    "    l_over_tackle = over_left_tackle(arg1, arg2, arg3, 30, 30)\n",
    "\n",
    "    ## Over right tackle\n",
    "    r_over_tackle = over_right_tackle(arg1, arg2, arg3, 14, 14)\n",
    "\n",
    "    ## Left three technique\n",
    "    left_three_tech = left_three_technique(arg1, arg2, arg3, 15, 17)\n",
    "\n",
    "    ## Right three technique\n",
    "    right_three_tech = right_three_technique(arg1, arg2, arg3, 27, 29)\n",
    "\n",
    "    ## Left a gap\n",
    "    l_a_gap = left_a_gap(arg1, arg2, arg3, 18, 21)\n",
    "\n",
    "    ## Right a gap\n",
    "    r_a_gap = right_a_gap(arg1, arg2, arg3, 23, 26)\n",
    "\n",
    "    ## Evaluate left tight end\n",
    "    if tes[0] == 1 and tes[1]==0:\n",
    "        if left_three_tech == True and r_a_gap == True and l_over_tackle == True and btwn_tackles==3:\n",
    "            return True\n",
    "        elif left_three_tech == True and r_a_gap == True and btwn_tackles==2:\n",
    "            return True\n",
    "        else:\n",
    "            return False\n",
    "    elif tes[0]==0 and tes[1]==1:\n",
    "        if r_over_tackle == True and l_a_gap == True and right_three_tech == True and btwn_tackles==3:\n",
    "            return True\n",
    "        elif l_a_gap == True and right_three_tech == True and btwn_tackles==2:\n",
    "            return True\n",
    "        else:\n",
    "            return False\n",
    "        \n",
    "    else:\n",
    "        return False\n",
    "    "
   ]
  },
  {
   "cell_type": "code",
   "execution_count": null,
   "metadata": {},
   "outputs": [],
   "source": []
  }
 ],
 "metadata": {
  "kernelspec": {
   "display_name": "base",
   "language": "python",
   "name": "python3"
  },
  "language_info": {
   "codemirror_mode": {
    "name": "ipython",
    "version": 3
   },
   "file_extension": ".py",
   "mimetype": "text/x-python",
   "name": "python",
   "nbconvert_exporter": "python",
   "pygments_lexer": "ipython3",
   "version": "3.11.5"
  }
 },
 "nbformat": 4,
 "nbformat_minor": 2
}
