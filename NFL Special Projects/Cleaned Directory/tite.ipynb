{
 "cells": [
  {
   "cell_type": "code",
   "execution_count": null,
   "metadata": {},
   "outputs": [],
   "source": [
    "%run Decoder.ipynb\n",
    "%run Positions.ipynb"
   ]
  },
  {
   "cell_type": "code",
   "execution_count": null,
   "metadata": {},
   "outputs": [],
   "source": [
    "def is_tite(row):\n",
    "    ## Arguments\n",
    "    arg1 = row['pff_DEFFRONT']\n",
    "    arg3 = row['pff_LBDEPTH']\n",
    "    arg2 = row['pff_DBDEPTH']\n",
    "    arg4 = row['pff_OFFFORMATION']\n",
    "\n",
    "    ## Checks to make\n",
    "    le_rusher = False\n",
    "    over_r_tackle = False\n",
    "    ov_center = False\n",
    "    over_l_tackle = False\n",
    "    re_rusher = False\n",
    "    num = number_of_rushers(arg1, arg2, arg3)\n",
    "    btwn_tackles = num_between_tackles(arg1, arg2, arg3)\n",
    "\n",
    "    ## Checks\n",
    "    ## Right Tackle\n",
    "    over_r_tackle = over_right_tackle(arg1, arg2, arg3, 14,14)\n",
    "\n",
    "    ## Left Tackle\n",
    "    over_l_tackle = over_left_tackle(arg1, arg2, arg3, 30,30)\n",
    "\n",
    "    ## Over center\n",
    "    ov_center = over_center(arg1, arg2, arg3, 21, 23)\n",
    "\n",
    "    ## Evaluate\n",
    "    if over_r_tackle == True and over_l_tackle == True and ov_center == True and btwn_tackles == 3:\n",
    "        return True\n",
    "    else:\n",
    "        return False\n"
   ]
  }
 ],
 "metadata": {
  "language_info": {
   "name": "python"
  }
 },
 "nbformat": 4,
 "nbformat_minor": 2
}
