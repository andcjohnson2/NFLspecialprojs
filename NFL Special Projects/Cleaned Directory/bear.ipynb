{
 "cells": [
  {
   "cell_type": "code",
   "execution_count": 1,
   "metadata": {},
   "outputs": [],
   "source": [
    "%run Decoder.ipynb\n",
    "%run Positions.ipynb\n",
    "%run tite.ipynb"
   ]
  },
  {
   "cell_type": "code",
   "execution_count": 2,
   "metadata": {},
   "outputs": [],
   "source": [
    "def is_bear(row):\n",
    "    ## Arguments\n",
    "    arg1 = row['pff_DEFFRONT']\n",
    "    arg3 = row['pff_LBDEPTH']\n",
    "    arg2 = row['pff_DBDEPTH']\n",
    "    arg4 = row['pff_OFFFORMATION']\n",
    "\n",
    "    ## Checks to make\n",
    "    tite = is_tite(row)\n",
    "    left_three_tech = False\n",
    "    right_three_tech = False\n",
    "    re_rusher = False\n",
    "    le_rusher = False\n",
    "    ov_center = False\n",
    "    num = number_of_rushers(arg1, arg2, arg3)\n",
    "    btwn_tackles = num_between_tackles(arg1, arg2, arg3)\n",
    "\n",
    "\n",
    "    ## Checks\n",
    "    ## Over center\n",
    "    if over_center(arg1, arg2, arg3, 20, 24):\n",
    "        ov_center = True\n",
    "\n",
    "    ## Left three tech\n",
    "    if left_three_technique(arg1, arg2, arg3, 14, 17):\n",
    "        left_three_tech = True\n",
    "\n",
    "    ## Right three tech\n",
    "    if right_three_technique(arg1, arg2, arg3, 27, 30):\n",
    "        right_three_tech = True\n",
    "    \n",
    "    ## Evaluate\n",
    "    if tite == False:\n",
    "        if left_three_tech == True and right_three_tech==True and ov_center== True and btwn_tackles==3:\n",
    "            return True\n",
    "        else:\n",
    "            return False\n",
    "    else:\n",
    "        return False\n"
   ]
  },
  {
   "cell_type": "code",
   "execution_count": null,
   "metadata": {},
   "outputs": [],
   "source": []
  }
 ],
 "metadata": {
  "kernelspec": {
   "display_name": "base",
   "language": "python",
   "name": "python3"
  },
  "language_info": {
   "codemirror_mode": {
    "name": "ipython",
    "version": 3
   },
   "file_extension": ".py",
   "mimetype": "text/x-python",
   "name": "python",
   "nbconvert_exporter": "python",
   "pygments_lexer": "ipython3",
   "version": "3.11.5"
  }
 },
 "nbformat": 4,
 "nbformat_minor": 2
}
