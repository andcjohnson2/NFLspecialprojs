{
 "cells": [
  {
   "cell_type": "code",
   "execution_count": 86,
   "metadata": {},
   "outputs": [],
   "source": [
    "%run classifier.ipynb\n",
    "import csv"
   ]
  },
  {
   "cell_type": "code",
   "execution_count": 72,
   "metadata": {},
   "outputs": [],
   "source": [
    "eleven_personnel = pd.read_csv('Front Finder 11 personnel with a TE second half of season (1).xlsx - play_feed - 2024-01-11T141420.0.csv')\n",
    "eleven_personnel['pff_LBDEPTH'].fillna('EX (100); EXT (101)', inplace=True)\n"
   ]
  },
  {
   "cell_type": "code",
   "execution_count": 73,
   "metadata": {},
   "outputs": [
    {
     "data": {
      "text/plain": [
       "5510"
      ]
     },
     "execution_count": 73,
     "metadata": {},
     "output_type": "execute_result"
    }
   ],
   "source": [
    "fronts = classifier(eleven_personnel)\n",
    "len(fronts)"
   ]
  },
  {
   "cell_type": "code",
   "execution_count": 74,
   "metadata": {},
   "outputs": [],
   "source": [
    "eleven_personnel.insert(loc=0, column='Fronts', value=fronts)"
   ]
  },
  {
   "cell_type": "code",
   "execution_count": 75,
   "metadata": {},
   "outputs": [],
   "source": [
    "eleven_personnel.to_csv('Eleven_Personnel_Fronts_fifth_pass.csv', index=False, sep=',', quoting=csv.QUOTE_ALL)"
   ]
  },
  {
   "cell_type": "code",
   "execution_count": 77,
   "metadata": {},
   "outputs": [
    {
     "name": "stdout",
     "output_type": "stream",
     "text": [
      "Fronts                                               Other\n",
      "pff_PLAYID                                         5521068\n",
      "pff_GAMEID                                           23984\n",
      "pff_GAMEDATE                                     12/3/2023\n",
      "pff_GAMESEASON                                        2023\n",
      "                                     ...                  \n",
      "pff_VISE                                               NaN\n",
      "pff_WRALIGNMENT      SRiWR(+6.5); SRoWR^(+9.5); RWR(+19.5)\n",
      "pff_CONTESTED                                          NaN\n",
      "pff_RUNPASSOPTION                                        1\n",
      "pff_PLAYCLOCK                                          NaN\n",
      "Name: 2154, Length: 181, dtype: object\n"
     ]
    }
   ],
   "source": [
    "print(eleven_personnel.iloc[2154,:])"
   ]
  },
  {
   "cell_type": "code",
   "execution_count": 87,
   "metadata": {},
   "outputs": [
    {
     "name": "stdout",
     "output_type": "stream",
     "text": [
      "[['LILB', 19], ['REO', 37], ['LE', 14], ['LEO', 9], ['DRT', 28]]\n",
      "(1, 0)\n",
      "True True True 3\n"
     ]
    },
    {
     "data": {
      "text/plain": [
       "True"
      ]
     },
     "execution_count": 87,
     "metadata": {},
     "output_type": "execute_result"
    }
   ],
   "source": [
    "is_over(eleven_personnel.iloc[2154,:])"
   ]
  },
  {
   "cell_type": "code",
   "execution_count": null,
   "metadata": {},
   "outputs": [],
   "source": []
  }
 ],
 "metadata": {
  "kernelspec": {
   "display_name": "base",
   "language": "python",
   "name": "python3"
  },
  "language_info": {
   "codemirror_mode": {
    "name": "ipython",
    "version": 3
   },
   "file_extension": ".py",
   "mimetype": "text/x-python",
   "name": "python",
   "nbconvert_exporter": "python",
   "pygments_lexer": "ipython3",
   "version": "3.11.5"
  }
 },
 "nbformat": 4,
 "nbformat_minor": 2
}
