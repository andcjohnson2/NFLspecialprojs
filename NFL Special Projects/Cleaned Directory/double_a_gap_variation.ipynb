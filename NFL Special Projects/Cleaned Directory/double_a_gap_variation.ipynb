{
 "cells": [
  {
   "cell_type": "code",
   "execution_count": 1,
   "metadata": {},
   "outputs": [],
   "source": [
    "%run Decoder.ipynb\n",
    "%run Positions.ipynb\n",
    "%run double_a_gap.ipynb"
   ]
  },
  {
   "cell_type": "code",
   "execution_count": 3,
   "metadata": {},
   "outputs": [],
   "source": [
    "def is_double_a_gap_variation(row):\n",
    "    ## Arguments\n",
    "    arg1 = row['pff_DEFFRONT']\n",
    "    arg3 = row['pff_LBDEPTH']\n",
    "    arg2 = row['pff_DBDEPTH']\n",
    "    arg4 = row['pff_OFFFORMATION']\n",
    "\n",
    "    ## Checks to make\n",
    "    dub_a_gap = is_double_a_gap(row)\n",
    "    l_a_gap = False\n",
    "    r_a_gap = False\n",
    "    num = number_of_rushers(arg1, arg2, arg3)\n",
    "    btwn_tackles = num_between_tackles(arg1, arg2, arg3)\n",
    "\n",
    "\n",
    "    ## Left a gap\n",
    "    if left_a_gap(arg1, arg2, arg3, 19, 21):\n",
    "        l_a_gap = True\n",
    "\n",
    "    ## Right a gap\n",
    "    if right_a_gap(arg1, arg2, arg3, 23, 25):\n",
    "        r_a_gap = True\n",
    "\n",
    "    ## Evaluate\n",
    "    if dub_a_gap == False:\n",
    "        if l_a_gap==True and r_a_gap==True:\n",
    "            return True\n",
    "        else:\n",
    "            return False\n",
    "    else:\n",
    "        return False"
   ]
  },
  {
   "cell_type": "code",
   "execution_count": null,
   "metadata": {},
   "outputs": [],
   "source": []
  }
 ],
 "metadata": {
  "kernelspec": {
   "display_name": "base",
   "language": "python",
   "name": "python3"
  },
  "language_info": {
   "codemirror_mode": {
    "name": "ipython",
    "version": 3
   },
   "file_extension": ".py",
   "mimetype": "text/x-python",
   "name": "python",
   "nbconvert_exporter": "python",
   "pygments_lexer": "ipython3",
   "version": "3.11.5"
  }
 },
 "nbformat": 4,
 "nbformat_minor": 2
}
