{
 "cells": [
  {
   "cell_type": "code",
   "execution_count": 1,
   "metadata": {},
   "outputs": [],
   "source": [
    "%run Decoder.ipynb\n",
    "%run Positions.ipynb"
   ]
  },
  {
   "cell_type": "code",
   "execution_count": 2,
   "metadata": {},
   "outputs": [],
   "source": [
    "def is_outlaw(row):\n",
    "    ## Arguments\n",
    "    arg1 = row['pff_DEFFRONT']\n",
    "    arg3 = row['pff_LBDEPTH']\n",
    "    arg2 = row['pff_DBDEPTH']\n",
    "    arg4 = row['pff_OFFFORMATION']\n",
    "    \n",
    "    ## Checks to make\n",
    "    le_rusher = False\n",
    "    ov_center = False\n",
    "    re_rusher = False\n",
    "    num = number_of_rushers(arg1, arg2, arg3)\n",
    "    btwn_tackles = num_between_tackles(arg1, arg2, arg3)\n",
    "\n",
    "    ## Checks\n",
    "    ov_center = over_center(arg1, arg2, arg3, 21, 23)\n",
    "\n",
    "    ## Evaluate\n",
    "    if ov_center == True and btwn_tackles ==1:\n",
    "        return True\n",
    "    else:\n",
    "        return False"
   ]
  },
  {
   "cell_type": "code",
   "execution_count": null,
   "metadata": {},
   "outputs": [],
   "source": []
  }
 ],
 "metadata": {
  "kernelspec": {
   "display_name": "base",
   "language": "python",
   "name": "python3"
  },
  "language_info": {
   "codemirror_mode": {
    "name": "ipython",
    "version": 3
   },
   "file_extension": ".py",
   "mimetype": "text/x-python",
   "name": "python",
   "nbconvert_exporter": "python",
   "pygments_lexer": "ipython3",
   "version": "3.11.5"
  }
 },
 "nbformat": 4,
 "nbformat_minor": 2
}
