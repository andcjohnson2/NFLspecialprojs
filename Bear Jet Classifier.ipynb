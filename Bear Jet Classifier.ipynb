{
 "cells": [
  {
   "cell_type": "code",
   "execution_count": 511,
   "id": "e076e921",
   "metadata": {},
   "outputs": [],
   "source": [
    "import pandas as pd\n",
    "import csv\n",
    "## should add info about line up being shaded left or right over center as well as jet/bear with 2 TE's left/right"
   ]
  },
  {
   "cell_type": "code",
   "execution_count": 495,
   "id": "db521f8a",
   "metadata": {},
   "outputs": [],
   "source": [
    "fronts = pd.read_csv(\"front finder sheet.xlsx - shaped (1).csv\")"
   ]
  },
  {
   "cell_type": "code",
   "execution_count": 513,
   "id": "ccdc0ca4",
   "metadata": {},
   "outputs": [],
   "source": [
    "## Takes any cell and creates a seperates each position into a list of positions\n",
    "def positions_list(cell):\n",
    "    positions = cell.split(\"; \")\n",
    "    return positions"
   ]
  },
  {
   "cell_type": "code",
   "execution_count": 514,
   "id": "94a2b60c",
   "metadata": {},
   "outputs": [],
   "source": [
    "## Tells me how many TEs are present on offensive line\n",
    "def tight_ends_present(cell):\n",
    "    cell = positions_list(cell)\n",
    "    TE_count = 0\n",
    "    for code in cell:\n",
    "        if \"TE\" in code:\n",
    "            TE_count+=1\n",
    "    return TE_count"
   ]
  },
  {
   "cell_type": "code",
   "execution_count": 515,
   "id": "cfa63a44",
   "metadata": {},
   "outputs": [],
   "source": [
    "## If there are tight ends present this function will tell me how many are on left/right side of the line\n",
    "\n",
    "def tight_ends_number_and_location(arg):\n",
    "    TE_left = 0\n",
    "    TE_right = 0\n",
    "    positions = positions_list(arg)\n",
    "    for pos in positions:\n",
    "        if \"TE-L\" in pos:\n",
    "            TE_left +=1\n",
    "        elif \"TE-oL\" in pos:\n",
    "            TE_left +=1\n",
    "        elif \"TE-iL\" in pos:\n",
    "            TE_left +=1\n",
    "        elif \"TE-R\" in pos:\n",
    "            TE_right +=1\n",
    "        elif \"TE-oR\" in pos:\n",
    "            TE_right +=1\n",
    "        elif \"TE-iR\" in pos:\n",
    "            TE_right +=1\n",
    "            \n",
    "    return TE_left, TE_right            "
   ]
  },
  {
   "cell_type": "code",
   "execution_count": 516,
   "id": "f764c33c",
   "metadata": {},
   "outputs": [],
   "source": [
    "## Will show a player's position on the line or depth off the line of scrimmage in a list of lists\n",
    "def defensive_decoder(arg):\n",
    "    positions = positions_list(arg)\n",
    "    tuples = []\n",
    "    for pos in positions:\n",
    "        temp_list = pos.split(\" \")\n",
    "        tuples.append(temp_list)\n",
    "    i = 0\n",
    "    while i<len(tuples):\n",
    "        num = tuples[i][1]\n",
    "        num = int(num[1:-1])\n",
    "        tuples[i][1] = num\n",
    "        i+=1\n",
    "    return tuples\n",
    "#defensive_decoder(fronts.iloc[2,0])"
   ]
  },
  {
   "cell_type": "code",
   "execution_count": 440,
   "id": "848bb16f",
   "metadata": {},
   "outputs": [],
   "source": [
    "## Will remover any player from a list of positions if they are playing off the ball\n",
    "def off_ball_remover(arg1, arg2):\n",
    "    all_positions = defensive_decoder(arg1)\n",
    "    off_ball = defensive_decoder(arg2)\n",
    "    for pos in off_ball:\n",
    "        if pos[1]>1:\n",
    "            for item in all_positions:\n",
    "                if pos[0] == item[0]:\n",
    "                    all_positions.remove(item)\n",
    "    \n",
    "    return all_positions"
   ]
  },
  {
   "cell_type": "code",
   "execution_count": 441,
   "id": "1a7f3c85",
   "metadata": {},
   "outputs": [],
   "source": [
    "## This combines the two above functions and will be used to remove players who are \n",
    "## playing off the ball from the list of DEF FRONT players\n",
    "def defensive_locations(arg1, arg2, arg3):\n",
    "    lb_removed = off_ball_remover(arg1, arg2)\n",
    "    cb_removed = off_ball_remover(arg1, arg3)\n",
    "    \n",
    "    foo1 = {tuple(sublist) for sublist in lb_removed}\n",
    "    foo2 = {tuple(sublist) for sublist in cb_removed}\n",
    "    \n",
    "    foo3 = foo1.intersection(foo2)\n",
    "    \n",
    "    final = [list(subset) for subset in foo3]\n",
    "   \n",
    "    \n",
    "    return final\n",
    "\n",
    "#print(defensive_locations(fronts.iloc[18,0], fronts.iloc[18,1], fronts.iloc[18,2]))"
   ]
  },
  {
   "cell_type": "code",
   "execution_count": 442,
   "id": "a1bc049d",
   "metadata": {},
   "outputs": [],
   "source": [
    "## This function will let us know if someone is lined up over center\n",
    "def over_center(arg1, arg2, arg3):\n",
    "    arg = defensive_locations(arg1, arg2, arg3)\n",
    "    for item in arg:\n",
    "        \n",
    "        if 21<=item[1]<=23:\n",
    "            return True\n",
    "    return False\n",
    "#over_center(fronts.iloc[2,0],fronts.iloc[2,1], fronts.iloc[2,2])"
   ]
  },
  {
   "cell_type": "code",
   "execution_count": 443,
   "id": "f3bc8061",
   "metadata": {},
   "outputs": [],
   "source": [
    "## This function will let us know if we have two defensive players lined up in a 3 technique\n",
    "def three_technique(arg1, arg2, arg3):\n",
    "    arg = defensive_locations(arg1, arg2, arg3)\n",
    "    i=0\n",
    "    for item in arg:\n",
    "        if 15<=item[1]<=17:\n",
    "            i+=1\n",
    "        elif 27<=item[1]<=29:\n",
    "            i+=1\n",
    "    if i==2:\n",
    "        \n",
    "        return True\n",
    "    else:\n",
    "        \n",
    "        return False\n",
    "#three_technique(fronts.iloc[2,0],fronts.iloc[2,1],fronts.iloc[2,2])"
   ]
  },
  {
   "cell_type": "code",
   "execution_count": 444,
   "id": "ea7579bf",
   "metadata": {},
   "outputs": [],
   "source": [
    "## This will tell us if there is a rusher on the left side based on the positioning of the TEs\n",
    "def left_edge_rusher(arg1, arg2, arg3, te_location):\n",
    "    tes = tight_ends_number_and_location(te_location)\n",
    "    d_line = defensive_locations(arg1, arg2, arg3)\n",
    "    i = 0\n",
    "    num_l_te = tes[0]\n",
    "    if num_l_te == 0:\n",
    "        for item in d_line:\n",
    "            if item[1]>=31:\n",
    "                i+=1\n",
    "    elif num_l_te ==1:\n",
    "        for item in d_line:\n",
    "            if item[1]>=35:\n",
    "                i+=1\n",
    "    elif num_l_te ==2:\n",
    "        for item in d_line:\n",
    "            if item[1]>=39:\n",
    "                i+=1\n",
    "    elif num_l_te ==3:\n",
    "        for item in d_line:\n",
    "            if item[1]>=43:\n",
    "                i+=1\n",
    "    else:\n",
    "        print(\"too many TE's\")\n",
    "    \n",
    "    if i==1:\n",
    "        return True\n",
    "    else: \n",
    "        return False\n",
    "#left_edge_rusher(fronts.iloc[2,0],fronts.iloc[2,1],fronts.iloc[2,2], fronts.iloc[2,-1])"
   ]
  },
  {
   "cell_type": "code",
   "execution_count": 445,
   "id": "0f437361",
   "metadata": {},
   "outputs": [],
   "source": [
    "## This will tell us if we have a rusher on the right side also based on the position of the TEs\n",
    "def right_edge_rusher(arg1, arg2, arg3, te_location):\n",
    "    tes = tight_ends_number_and_location(te_location)\n",
    "    d_line = defensive_locations(arg1, arg2, arg3)\n",
    "    i = 0\n",
    "    num_r_te = tes[1]\n",
    "    if num_r_te == 0:\n",
    "        for item in d_line:\n",
    "            if item[1]<=13:\n",
    "                i+=1\n",
    "    elif num_r_te ==1:\n",
    "        for item in d_line:\n",
    "            if item[1]<=9:\n",
    "                i+=1\n",
    "    elif num_r_te ==2:\n",
    "        for item in d_line:\n",
    "            if item[1]<=5:\n",
    "                i+=1\n",
    "    elif num_r_te ==3:\n",
    "        for item in d_line:\n",
    "            if item[1]<=1:\n",
    "                i+=1\n",
    "    else:\n",
    "        print(\"too many TE's\")\n",
    "    \n",
    "    if i==1:\n",
    "        return True\n",
    "    else: \n",
    "        return False\n",
    "#right_edge_rusher(fronts.iloc[2,0],fronts.iloc[2,1],fronts.iloc[2,2], fronts.iloc[2,-1])"
   ]
  },
  {
   "cell_type": "code",
   "execution_count": 517,
   "id": "97f44791",
   "metadata": {},
   "outputs": [
    {
     "name": "stderr",
     "output_type": "stream",
     "text": [
      "/var/folders/8q/xfsr_zq50y9b99lq670pw6dc0000gn/T/ipykernel_8976/2955402979.py:5: FutureWarning: Series.__getitem__ treating keys as positions is deprecated. In a future version, integer keys will always be treated as labels (consistent with DataFrame behavior). To access a value by position, use `ser.iloc[pos]`\n",
      "  arg1 = row[0]\n",
      "/var/folders/8q/xfsr_zq50y9b99lq670pw6dc0000gn/T/ipykernel_8976/2955402979.py:6: FutureWarning: Series.__getitem__ treating keys as positions is deprecated. In a future version, integer keys will always be treated as labels (consistent with DataFrame behavior). To access a value by position, use `ser.iloc[pos]`\n",
      "  arg2 = row[1]\n",
      "/var/folders/8q/xfsr_zq50y9b99lq670pw6dc0000gn/T/ipykernel_8976/2955402979.py:7: FutureWarning: Series.__getitem__ treating keys as positions is deprecated. In a future version, integer keys will always be treated as labels (consistent with DataFrame behavior). To access a value by position, use `ser.iloc[pos]`\n",
      "  arg3 = row[2]\n",
      "/var/folders/8q/xfsr_zq50y9b99lq670pw6dc0000gn/T/ipykernel_8976/2955402979.py:8: FutureWarning: Series.__getitem__ treating keys as positions is deprecated. In a future version, integer keys will always be treated as labels (consistent with DataFrame behavior). To access a value by position, use `ser.iloc[pos]`\n",
      "  te = row[-1]\n"
     ]
    },
    {
     "data": {
      "text/plain": [
       "(False, True, False, False)"
      ]
     },
     "execution_count": 517,
     "metadata": {},
     "output_type": "execute_result"
    }
   ],
   "source": [
    "## This will take a row of a table and will classify and return TRUE if we have:\n",
    "## 1. 2 D linemen in 3 technique\n",
    "## 2. A left edge rusher\n",
    "## 3. A right edge rusher\n",
    "## 4. A center over the ball\n",
    "\n",
    "\n",
    "\n",
    "def bear_jet_row_classifier(row):\n",
    "    \n",
    "    ## Arguments\n",
    "    arg1 = row[0]\n",
    "    arg2 = row[1]\n",
    "    arg3 = row[2]\n",
    "    te = row[-1]\n",
    "    \n",
    "    ## Checks to make\n",
    "    three_tech = False\n",
    "    le_rusher = False\n",
    "    re_rusher = False\n",
    "    over_center_rusher = False\n",
    "\n",
    "    ## Check if there are 2 Dlinemen in 3 technique\n",
    "\n",
    "    if three_technique(arg1, arg2, arg3) == True:\n",
    "        three_tech = True\n",
    "        \n",
    "    else:\n",
    "        \n",
    "        three_tech = False\n",
    "\n",
    "    ## Check if there is a left edge rusher\n",
    "\n",
    "    if left_edge_rusher(arg1, arg2, arg3, te) == True:\n",
    "        le_rusher = True\n",
    "    else:\n",
    "        le_rusher = False\n",
    "\n",
    "    ## Check if there is a right edge rusher\n",
    "\n",
    "    if right_edge_rusher(arg1, arg2, arg3, te) == True:\n",
    "        re_rusher = True\n",
    "    else:\n",
    "        re_rusher = False\n",
    "\n",
    "    ## Check if there is someone lined up over center\n",
    "\n",
    "    if over_center(arg1, arg2, arg3) == True:\n",
    "        over_center_rusher = True\n",
    "    else: \n",
    "        over_center_rusher = False\n",
    "\n",
    "    return three_tech, le_rusher, re_rusher, over_center_rusher\n",
    "\n",
    "bear_jet_row_classifier(fronts.iloc[0,:])\n",
    "\n"
   ]
  },
  {
   "cell_type": "code",
   "execution_count": 498,
   "id": "8906991d",
   "metadata": {},
   "outputs": [
    {
     "name": "stderr",
     "output_type": "stream",
     "text": [
      "/var/folders/8q/xfsr_zq50y9b99lq670pw6dc0000gn/T/ipykernel_8976/214005012.py:4: FutureWarning: Series.__getitem__ treating keys as positions is deprecated. In a future version, integer keys will always be treated as labels (consistent with DataFrame behavior). To access a value by position, use `ser.iloc[pos]`\n",
      "  arg1 = row[0]\n",
      "/var/folders/8q/xfsr_zq50y9b99lq670pw6dc0000gn/T/ipykernel_8976/214005012.py:5: FutureWarning: Series.__getitem__ treating keys as positions is deprecated. In a future version, integer keys will always be treated as labels (consistent with DataFrame behavior). To access a value by position, use `ser.iloc[pos]`\n",
      "  arg2 = row[1]\n",
      "/var/folders/8q/xfsr_zq50y9b99lq670pw6dc0000gn/T/ipykernel_8976/214005012.py:6: FutureWarning: Series.__getitem__ treating keys as positions is deprecated. In a future version, integer keys will always be treated as labels (consistent with DataFrame behavior). To access a value by position, use `ser.iloc[pos]`\n",
      "  arg3 = row[2]\n",
      "/var/folders/8q/xfsr_zq50y9b99lq670pw6dc0000gn/T/ipykernel_8976/214005012.py:7: FutureWarning: Series.__getitem__ treating keys as positions is deprecated. In a future version, integer keys will always be treated as labels (consistent with DataFrame behavior). To access a value by position, use `ser.iloc[pos]`\n",
      "  te = row[-1]\n"
     ]
    }
   ],
   "source": [
    "## This will loop through all rows in a table\n",
    "## and will create a list we can append as a column \n",
    "## to our table that has classified each row as a 'Bear'\n",
    "## 'Jet' or 'Other' based on the 4 arguments classified by the above function \n",
    "\n",
    "\n",
    "\n",
    "\n",
    "def bear_jet_classifier(df):\n",
    "    i=0\n",
    "    fronts_list = []\n",
    "    while i<len(df):\n",
    "        row = df.iloc[i,:]\n",
    "        inputs = bear_jet_row_classifier(row)\n",
    "        if inputs[0] == True and inputs[1] == True and inputs[2]==True and inputs[3]==False:\n",
    "            fronts_list.append(\"Jet\")\n",
    "        elif inputs[0] == True and inputs[1] == True and inputs[2]==True and inputs[3]==True:\n",
    "            fronts_list.append(\"Bear\")\n",
    "        else:\n",
    "            fronts_list.append(\"Other\")\n",
    "        i+=1\n",
    "    return fronts_list\n",
    "formations = bear_jet_classifier(fronts)"
   ]
  },
  {
   "cell_type": "code",
   "execution_count": 501,
   "id": "68aa63f2",
   "metadata": {},
   "outputs": [],
   "source": [
    "## Add the list of 'Bear', 'Jet', 'Other' classifications to the table as a new column \n",
    "fronts['Fronts'] = formations"
   ]
  },
  {
   "cell_type": "code",
   "execution_count": 506,
   "id": "ee13c313",
   "metadata": {},
   "outputs": [
    {
     "data": {
      "text/html": [
       "<div>\n",
       "<style scoped>\n",
       "    .dataframe tbody tr th:only-of-type {\n",
       "        vertical-align: middle;\n",
       "    }\n",
       "\n",
       "    .dataframe tbody tr th {\n",
       "        vertical-align: top;\n",
       "    }\n",
       "\n",
       "    .dataframe thead th {\n",
       "        text-align: right;\n",
       "    }\n",
       "</style>\n",
       "<table border=\"1\" class=\"dataframe\">\n",
       "  <thead>\n",
       "    <tr style=\"text-align: right;\">\n",
       "      <th></th>\n",
       "      <th>pff_DEFFRONT</th>\n",
       "      <th>pff_LBDEPTH</th>\n",
       "      <th>pff_DBDEPTH</th>\n",
       "      <th>pff_OFFFORMATION</th>\n",
       "      <th>Reasons</th>\n",
       "      <th>Fronts</th>\n",
       "    </tr>\n",
       "  </thead>\n",
       "  <tbody>\n",
       "    <tr>\n",
       "      <th>0</th>\n",
       "      <td>LOLB (08); LOLB (12); DLT (19); RILB (25); ROL...</td>\n",
       "      <td>LOLB (1); LOLB (0); RILB (1); ROLB (0)</td>\n",
       "      <td>LCB (8); SCBL (6); FSL (14); SCBR (8); RCB (8)</td>\n",
       "      <td>LWR; SLWR^; HB-L; SRWR^; RWR</td>\n",
       "      <td>Don't have two 3 technique DL</td>\n",
       "      <td>Other</td>\n",
       "    </tr>\n",
       "    <tr>\n",
       "      <th>1</th>\n",
       "      <td>LOLB (08); DLT (16); LILB (19); RILB (25); DRT...</td>\n",
       "      <td>LOLB (0); LILB (0); RILB (0); ROLB (0)</td>\n",
       "      <td>LCB (6); SCBoL (3); SCBiL (10); FS (11); RCB (1)</td>\n",
       "      <td>LWR^; HB-L; SRiWR; SRoWR^; RWR</td>\n",
       "      <td>2 Edge rushers 2 three technique DL but no one...</td>\n",
       "      <td>Jet</td>\n",
       "    </tr>\n",
       "  </tbody>\n",
       "</table>\n",
       "</div>"
      ],
      "text/plain": [
       "                                        pff_DEFFRONT  \\\n",
       "0  LOLB (08); LOLB (12); DLT (19); RILB (25); ROL...   \n",
       "1  LOLB (08); DLT (16); LILB (19); RILB (25); DRT...   \n",
       "\n",
       "                              pff_LBDEPTH  \\\n",
       "0  LOLB (1); LOLB (0); RILB (1); ROLB (0)   \n",
       "1  LOLB (0); LILB (0); RILB (0); ROLB (0)   \n",
       "\n",
       "                                        pff_DBDEPTH  \\\n",
       "0    LCB (8); SCBL (6); FSL (14); SCBR (8); RCB (8)   \n",
       "1  LCB (6); SCBoL (3); SCBiL (10); FS (11); RCB (1)   \n",
       "\n",
       "                 pff_OFFFORMATION  \\\n",
       "0    LWR; SLWR^; HB-L; SRWR^; RWR   \n",
       "1  LWR^; HB-L; SRiWR; SRoWR^; RWR   \n",
       "\n",
       "                                             Reasons Fronts  \n",
       "0                      Don't have two 3 technique DL  Other  \n",
       "1  2 Edge rushers 2 three technique DL but no one...    Jet  "
      ]
     },
     "execution_count": 506,
     "metadata": {},
     "output_type": "execute_result"
    }
   ],
   "source": [
    "fronts.head(2)"
   ]
  },
  {
   "cell_type": "code",
   "execution_count": 512,
   "id": "da6d3177",
   "metadata": {},
   "outputs": [],
   "source": [
    "fronts.to_csv('Classified Jet-Bear Formations.csv', index=False, sep=',', quoting=csv.QUOTE_ALL)"
   ]
  },
  {
   "cell_type": "code",
   "execution_count": null,
   "id": "48591576",
   "metadata": {},
   "outputs": [],
   "source": []
  }
 ],
 "metadata": {
  "kernelspec": {
   "display_name": "Python 3 (ipykernel)",
   "language": "python",
   "name": "python3"
  },
  "language_info": {
   "codemirror_mode": {
    "name": "ipython",
    "version": 3
   },
   "file_extension": ".py",
   "mimetype": "text/x-python",
   "name": "python",
   "nbconvert_exporter": "python",
   "pygments_lexer": "ipython3",
   "version": "3.11.5"
  }
 },
 "nbformat": 4,
 "nbformat_minor": 5
}
